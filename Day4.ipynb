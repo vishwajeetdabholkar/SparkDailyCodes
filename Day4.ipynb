{
 "cells": [
  {
   "cell_type": "code",
   "execution_count": 1,
   "metadata": {},
   "outputs": [],
   "source": [
    "from pyspark.sql import SparkSession"
   ]
  },
  {
   "cell_type": "code",
   "execution_count": null,
   "metadata": {},
   "outputs": [],
   "source": []
  },
  {
   "cell_type": "code",
   "execution_count": 2,
   "metadata": {},
   "outputs": [],
   "source": [
    "spark = SparkSession.builder\\\n",
    "    .appName('Day4Spark')\\\n",
    "    .master('local')\\\n",
    "    .getOrCreate()"
   ]
  },
  {
   "cell_type": "code",
   "execution_count": 3,
   "metadata": {},
   "outputs": [
    {
     "name": "stdout",
     "output_type": "stream",
     "text": [
      "+--------------------+\n",
      "|              labels|\n",
      "+--------------------+\n",
      "|[[1, abs], [2, ups]]|\n",
      "+--------------------+\n",
      "\n",
      "root\n",
      " |-- labels: array (nullable = true)\n",
      " |    |-- element: struct (containsNull = true)\n",
      " |    |    |-- id: long (nullable = true)\n",
      " |    |    |-- name: string (nullable = true)\n",
      "\n",
      "+--------+\n",
      "|    data|\n",
      "+--------+\n",
      "|[1, abs]|\n",
      "|[2, ups]|\n",
      "+--------+\n",
      "\n",
      "root\n",
      " |-- data: struct (nullable = true)\n",
      " |    |-- id: long (nullable = true)\n",
      " |    |-- name: string (nullable = true)\n",
      "\n",
      "+---+----+\n",
      "| id|name|\n",
      "+---+----+\n",
      "|  1| abs|\n",
      "|  2| ups|\n",
      "+---+----+\n",
      "\n",
      "root\n",
      " |-- id: long (nullable = true)\n",
      " |-- name: string (nullable = true)\n",
      "\n",
      "root\n",
      " |-- label_names: array (nullable = true)\n",
      " |    |-- element: string (containsNull = false)\n",
      "\n",
      "+-----------+\n",
      "|label_names|\n",
      "+-----------+\n",
      "| [abs, ups]|\n",
      "+-----------+\n",
      "\n"
     ]
    }
   ],
   "source": [
    "from pyspark.sql import functions as func\n",
    "newJson = '{\"labels\":[{\"id\":1,\"name\":\"abs\"},{\"id\":2,\"name\":\"ups\"}]}'\n",
    "df4 = spark.read.json(spark.sparkContext.parallelize([newJson]))\n",
    "df4.show()\n",
    "df4.printSchema()\n",
    "#########################\n",
    "df5 = df4.select(func.explode(\"labels\").alias(\"data\"))\n",
    "df5.show()\n",
    "df5.printSchema()\n",
    "\n",
    "#########################\n",
    "\n",
    "df6 = df5.select('data.*')\n",
    "df6.show()\n",
    "df6.printSchema()\n",
    "\n",
    "#########################\n",
    "df6.cache()\n",
    "df7 = df6.select(func.collect_list(\"name\").alias(\"label_names\"))\n",
    "df7.printSchema()\n",
    "df7.show()"
   ]
  },
  {
   "cell_type": "code",
   "execution_count": null,
   "metadata": {},
   "outputs": [],
   "source": []
  }
 ],
 "metadata": {
  "kernelspec": {
   "display_name": "Python 3",
   "language": "python",
   "name": "python3"
  },
  "language_info": {
   "codemirror_mode": {
    "name": "ipython",
    "version": 3
   },
   "file_extension": ".py",
   "mimetype": "text/x-python",
   "name": "python",
   "nbconvert_exporter": "python",
   "pygments_lexer": "ipython3",
   "version": "3.8.3"
  }
 },
 "nbformat": 4,
 "nbformat_minor": 4
}
