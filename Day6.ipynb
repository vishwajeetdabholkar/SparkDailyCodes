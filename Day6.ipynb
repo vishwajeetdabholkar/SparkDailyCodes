{
 "cells": [
  {
   "cell_type": "code",
   "execution_count": 5,
   "metadata": {},
   "outputs": [],
   "source": [
    "from pyspark.sql import SparkSession\n",
    "spark = SparkSession.builder.appName(\"Day6Spark\").master(\"local\").getOrCreate()"
   ]
  },
  {
   "cell_type": "markdown",
   "metadata": {},
   "source": [
    "##### Simple way to change the GENDER column with appropriate values based on available valu in columns\n",
    "\n",
    "that is if the column has value as \"Female\", the new value will be \"F\"\n",
    "and if the column has value as \"Male\", the new value will be \"M\".\n",
    "If there is No value in column we will set the value to \"Not available\"\n",
    "\n",
    "For this we are using when() and otherwise functions.\n",
    "\n",
    "PySpark when() is SQL function, in order to use this first you should import and this returns a Column type, otherwise() is a function of Column, when otherwise() not used and none of the conditions met it assigns None (Null) value. \n",
    "\n",
    "Usage would be like when(condition).otherwise(default).\n",
    "\n",
    "when() function take 2 parameters, first param takes a condition and second takes a literal value or Column, if condition evaluates to true then it returns a value from second param."
   ]
  },
  {
   "cell_type": "code",
   "execution_count": 15,
   "metadata": {},
   "outputs": [
    {
     "name": "stdout",
     "output_type": "stream",
     "text": [
      "root\n",
      " |-- emp_id: long (nullable = true)\n",
      " |-- name: string (nullable = true)\n",
      " |-- superior_emp_id: long (nullable = true)\n",
      " |-- year_joined: string (nullable = true)\n",
      " |-- emp_dept_id: string (nullable = true)\n",
      " |-- gender: string (nullable = true)\n",
      " |-- salary: long (nullable = true)\n",
      "\n",
      "+------+--------+---------------+-----------+-----------+------+------+\n",
      "|emp_id|name    |superior_emp_id|year_joined|emp_dept_id|gender|salary|\n",
      "+------+--------+---------------+-----------+-----------+------+------+\n",
      "|1     |Smith   |-1             |2018       |10         |M     |3000  |\n",
      "|2     |Rose    |1              |2010       |20         |M     |4000  |\n",
      "|3     |Williams|1              |2010       |10         |M     |1000  |\n",
      "|4     |Jones   |2              |2005       |10         |F     |2000  |\n",
      "|5     |Brown   |2              |2010       |40         |      |-1    |\n",
      "|6     |Brown   |2              |2010       |50         |      |-1    |\n",
      "|6     |Vishu   |2              |2010       |50         |Male  |-1    |\n",
      "|6     |Mayuri  |2              |2010       |50         |Female|-1    |\n",
      "+------+--------+---------------+-----------+-----------+------+------+\n",
      "\n"
     ]
    }
   ],
   "source": [
    "emp = [(1,\"Smith\",-1,\"2018\",\"10\",\"M\",3000), \\\n",
    "    (2,\"Rose\",1,\"2010\",\"20\",\"M\",4000), \\\n",
    "    (3,\"Williams\",1,\"2010\",\"10\",\"M\",1000), \\\n",
    "    (4,\"Jones\",2,\"2005\",\"10\",\"F\",2000), \\\n",
    "    (5,\"Brown\",2,\"2010\",\"40\",\"\",-1), \\\n",
    "      (6,\"Brown\",2,\"2010\",\"50\",\"\",-1), \\\n",
    "       (6,\"Vishu\",2,\"2010\",\"50\",\"Male\",-1),\\\n",
    "       (6,\"Mayuri\",2,\"2010\",\"50\",\"Female\",-1) \\\n",
    "  ]\n",
    "empColumns = [\"emp_id\",\"name\",\"superior_emp_id\",\"year_joined\", \\\n",
    "       \"emp_dept_id\",\"gender\",\"salary\"]\n",
    "\n",
    "empDF = spark.createDataFrame(data=emp, schema = empColumns)\n",
    "empDF.printSchema()\n",
    "empDF.show(truncate=False)\n"
   ]
  },
  {
   "cell_type": "code",
   "execution_count": 14,
   "metadata": {},
   "outputs": [
    {
     "name": "stdout",
     "output_type": "stream",
     "text": [
      "+------+--------+---------------+-----------+-----------+------+------+-------------+\n",
      "|emp_id|    name|superior_emp_id|year_joined|emp_dept_id|gender|salary|   new_gender|\n",
      "+------+--------+---------------+-----------+-----------+------+------+-------------+\n",
      "|     1|   Smith|             -1|       2018|         10|     M|  3000|            M|\n",
      "|     2|    Rose|              1|       2010|         20|     M|  4000|            M|\n",
      "|     3|Williams|              1|       2010|         10|     M|  1000|            M|\n",
      "|     4|   Jones|              2|       2005|         10|     F|  2000|            F|\n",
      "|     5|   Brown|              2|       2010|         40|      |    -1|Not Available|\n",
      "|     6|   Brown|              2|       2010|         50|      |    -1|Not Available|\n",
      "|     6|   Vishu|              2|       2010|         50|  Male|    -1|            M|\n",
      "|     6|  Mayuri|              2|       2010|         50|Female|    -1|            F|\n",
      "+------+--------+---------------+-----------+-----------+------+------+-------------+\n",
      "\n"
     ]
    }
   ],
   "source": [
    "from  pyspark.sql.functions import *\n",
    "empDF.withColumn(\"new_gender\", \\\n",
    "                 when(col(\"gender\")==\"Male\",\"M\")\\\n",
    "                 .when(col(\"gender\")== \"Female\",\"F\")\\\n",
    "                 .when(col(\"gender\")== \"\",\"Not Available\")\n",
    "                 .otherwise(empDF.gender)).show()"
   ]
  },
  {
   "cell_type": "code",
   "execution_count": null,
   "metadata": {},
   "outputs": [],
   "source": []
  },
  {
   "cell_type": "code",
   "execution_count": null,
   "metadata": {},
   "outputs": [],
   "source": []
  }
 ],
 "metadata": {
  "kernelspec": {
   "display_name": "Python 3",
   "language": "python",
   "name": "python3"
  },
  "language_info": {
   "codemirror_mode": {
    "name": "ipython",
    "version": 3
   },
   "file_extension": ".py",
   "mimetype": "text/x-python",
   "name": "python",
   "nbconvert_exporter": "python",
   "pygments_lexer": "ipython3",
   "version": "3.8.3"
  }
 },
 "nbformat": 4,
 "nbformat_minor": 4
}
