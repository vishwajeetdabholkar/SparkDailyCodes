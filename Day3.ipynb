{
 "cells": [
  {
   "cell_type": "markdown",
   "metadata": {},
   "source": [
    "### Merge values in one column based of the value in other column\n",
    "\n",
    "We have some deals with multiple products. Create another dataset with Deal Id, all Products as csv and their total Amount\n",
    "\n",
    "\n",
    "    Deal Id                 Products    Amount                             Deal Id                Products        Amount\n",
    "    0063a00000h6PtsAAE      RHEL        50              ----------->       0063a00000h6PtsAAE     RHEL,ANSIBLE    100\n",
    "    0063a00000h6PtsAAE      ANSIBLE     50"
   ]
  },
  {
   "cell_type": "code",
   "execution_count": 1,
   "metadata": {},
   "outputs": [],
   "source": [
    "from pyspark.sql import SparkSession"
   ]
  },
  {
   "cell_type": "code",
   "execution_count": 2,
   "metadata": {},
   "outputs": [],
   "source": [
    "spark = SparkSession.builder\\\n",
    "    .appName('Day3Spark')\\\n",
    "    .master('local')\\\n",
    "    .getOrCreate()"
   ]
  },
  {
   "cell_type": "code",
   "execution_count": 3,
   "metadata": {},
   "outputs": [],
   "source": [
    "df = spark.read.format('csv')\\\n",
    "    .option('header','true')\\\n",
    ".load(\"interview_data.csv\")"
   ]
  },
  {
   "cell_type": "code",
   "execution_count": 4,
   "metadata": {},
   "outputs": [],
   "source": [
    "#df.printSchema()"
   ]
  },
  {
   "cell_type": "code",
   "execution_count": 5,
   "metadata": {},
   "outputs": [],
   "source": [
    "import re\n",
    "from pyspark.sql import functions as F\n",
    "df = df.select([F.col(col).alias(col.replace('(', '')) for col in df.columns])\n",
    "df = df.select([F.col(col).alias(col.replace(')', '')) for col in df.columns])"
   ]
  },
  {
   "cell_type": "code",
   "execution_count": 6,
   "metadata": {},
   "outputs": [
    {
     "name": "stdout",
     "output_type": "stream",
     "text": [
      "root\n",
      " |-- Deal ID: string (nullable = true)\n",
      " |-- Products: string (nullable = true)\n",
      " |-- Industry: string (nullable = true)\n",
      " |-- Category: string (nullable = true)\n",
      " |-- Super Region: string (nullable = true)\n",
      " |-- Start Date: string (nullable = true)\n",
      " |-- Term in Days: string (nullable = true)\n",
      " |-- Amount $: string (nullable = true)\n",
      "\n"
     ]
    }
   ],
   "source": [
    "df.printSchema()"
   ]
  },
  {
   "cell_type": "code",
   "execution_count": 7,
   "metadata": {},
   "outputs": [],
   "source": [
    "df2 = df.select(\"Deal ID\",\"Products\",\"Amount $\")"
   ]
  },
  {
   "cell_type": "code",
   "execution_count": 8,
   "metadata": {},
   "outputs": [
    {
     "name": "stdout",
     "output_type": "stream",
     "text": [
      "+------------------+--------+------------------+\n",
      "|           Deal ID|Products|          Amount $|\n",
      "+------------------+--------+------------------+\n",
      "|0063a00000h6PtsAAE|    RHEL|       1327.912875|\n",
      "|0063a00000h6PtsAAE|    RHEL| 523.7066249999998|\n",
      "|0063a00000hDX0rAAG| ANSIBLE|         88730.625|\n",
      "|0063a00000hDkUDAA0| ANSIBLE|         88730.625|\n",
      "|0063a00000iER6TAAW|    RHEL|           31437.5|\n",
      "|0063a00000iEplCAAS| ANSIBLE|           27232.5|\n",
      "|0063a00000iEq3iAAC|    RHEL|       5148.323575|\n",
      "|0063a00000iEq3jAAC|    RHEL|         2782.1911|\n",
      "|0063a00000iEq3jAAC|    RHEL| 3166.822450000001|\n",
      "|0063a00000iEq3jAAC|    RHEL|        425.814225|\n",
      "|0063a00000iEq3jAAC|    RHEL|      19223.383675|\n",
      "|0063a00000iEq3jAAC|    RHEL|        3648.79955|\n",
      "|0063a00000iEq3jAAC|    RHEL| 9.540249999999986|\n",
      "|0063a00000gP8HzAAK|    RHEL|          633.7725|\n",
      "|0063a00000h6uWwAAI|    RHEL|        2102.28465|\n",
      "|0063a00000h6uWwAAI|    RHEL|       1159.923125|\n",
      "|0063a00000h9ALpAAM|TRAINING|    2492553.587275|\n",
      "|0063a00000h9ALpAAM|TRAINING|    2492553.587275|\n",
      "|0063a00000hBRigAAG|    RHEL|10408.295000000002|\n",
      "|0063a00000hCFEfAAO|    RHEL|         4181.6992|\n",
      "+------------------+--------+------------------+\n",
      "only showing top 20 rows\n",
      "\n"
     ]
    }
   ],
   "source": [
    "df2.show()"
   ]
  },
  {
   "cell_type": "code",
   "execution_count": 9,
   "metadata": {},
   "outputs": [],
   "source": [
    "from pyspark.sql import functions as func"
   ]
  },
  {
   "cell_type": "code",
   "execution_count": 10,
   "metadata": {},
   "outputs": [
    {
     "name": "stdout",
     "output_type": "stream",
     "text": [
      "+------------------+------------------+----------------------+\n",
      "|           Deal ID|     sum(Amount $)|collect_list(Products)|\n",
      "+------------------+------------------+----------------------+\n",
      "|              null|              null|                    []|\n",
      "|0063a00000gN5cQAAS|     2184914.37475|  [CLOUD INFRASTRUC...|\n",
      "|0063a00000gN6UVAA0|         4204800.0|  [CONSULTING, CONS...|\n",
      "|0063a00000gN98hAAC|       5584.240625|  [RHEL, RHEL, RHEL...|\n",
      "|0063a00000gNA4bAAG|        14602.7825|                [RHEL]|\n",
      "|0063a00000gNAmuAAG| 36872.12100000001|          [RHEL, RHEL]|\n",
      "|0063a00000gNCFuAAO| 42275.73585000001|  [RHEL, RHEL, RHEL...|\n",
      "|0063a00000gNDcwAAG|40421.072824999996|    [RHEL, RHEL, RHEL]|\n",
      "|0063a00000gNEHRAA4|          17538.53|  [RHEL, RHEL, RHEL...|\n",
      "|0063a00000gNEKlAAO|      474563.54865|    [RHEL, MIDDLEWARE]|\n",
      "|0063a00000gNGNLAA4|32442.637075000006|          [RHEL, RHEL]|\n",
      "|0063a00000gNHHwAAO| 9497.140300000001|  [RHEL, RHEL, RHEL...|\n",
      "|0063a00000gNJTqAAO|       9012.035575|    [RHEL, RHEL, RHEL]|\n",
      "|0063a00000gNMk1AAG|     250796.218725|     [OPENSHIFT, RHEL]|\n",
      "|0063a00000gNOSBAA4|      13586.370925|                [RHEL]|\n",
      "|0063a00000gNPJvAAO|1240.2386250000004|                [RHEL]|\n",
      "|0063a00000gNQ0fAAG|12975.710624999996|    [RHEL, RHEL, RHEL]|\n",
      "|0063a00000gNRoXAAW|17279.343999999997|          [RHEL, RHEL]|\n",
      "|0063a00000gNS0pAAG|        2593.42355|          [RHEL, RHEL]|\n",
      "|0063a00000gNS4MAAW|         3511.5012|          [RHEL, RHEL]|\n",
      "+------------------+------------------+----------------------+\n",
      "only showing top 20 rows\n",
      "\n"
     ]
    }
   ],
   "source": [
    "(df2\n",
    "    .groupBy(\"Deal ID\")\n",
    "    .agg(func.sum(\"Amount $\"),func.collect_list(\"Products\"))\n",
    "    .show())"
   ]
  },
  {
   "cell_type": "code",
   "execution_count": null,
   "metadata": {},
   "outputs": [],
   "source": []
  },
  {
   "cell_type": "code",
   "execution_count": null,
   "metadata": {},
   "outputs": [],
   "source": []
  },
  {
   "cell_type": "code",
   "execution_count": null,
   "metadata": {},
   "outputs": [],
   "source": []
  },
  {
   "cell_type": "code",
   "execution_count": null,
   "metadata": {},
   "outputs": [],
   "source": []
  },
  {
   "cell_type": "code",
   "execution_count": null,
   "metadata": {},
   "outputs": [],
   "source": []
  },
  {
   "cell_type": "code",
   "execution_count": null,
   "metadata": {},
   "outputs": [],
   "source": []
  },
  {
   "cell_type": "code",
   "execution_count": null,
   "metadata": {},
   "outputs": [],
   "source": []
  },
  {
   "cell_type": "code",
   "execution_count": null,
   "metadata": {},
   "outputs": [],
   "source": []
  },
  {
   "cell_type": "code",
   "execution_count": null,
   "metadata": {},
   "outputs": [],
   "source": []
  },
  {
   "cell_type": "code",
   "execution_count": null,
   "metadata": {},
   "outputs": [],
   "source": []
  },
  {
   "cell_type": "code",
   "execution_count": null,
   "metadata": {
    "scrolled": true
   },
   "outputs": [],
   "source": []
  },
  {
   "cell_type": "code",
   "execution_count": null,
   "metadata": {},
   "outputs": [],
   "source": []
  },
  {
   "cell_type": "code",
   "execution_count": null,
   "metadata": {},
   "outputs": [],
   "source": []
  },
  {
   "cell_type": "code",
   "execution_count": null,
   "metadata": {},
   "outputs": [],
   "source": []
  },
  {
   "cell_type": "code",
   "execution_count": null,
   "metadata": {},
   "outputs": [],
   "source": []
  },
  {
   "cell_type": "code",
   "execution_count": null,
   "metadata": {},
   "outputs": [],
   "source": []
  }
 ],
 "metadata": {
  "kernelspec": {
   "display_name": "Python 3",
   "language": "python",
   "name": "python3"
  },
  "language_info": {
   "codemirror_mode": {
    "name": "ipython",
    "version": 3
   },
   "file_extension": ".py",
   "mimetype": "text/x-python",
   "name": "python",
   "nbconvert_exporter": "python",
   "pygments_lexer": "ipython3",
   "version": "3.8.3"
  }
 },
 "nbformat": 4,
 "nbformat_minor": 4
}
