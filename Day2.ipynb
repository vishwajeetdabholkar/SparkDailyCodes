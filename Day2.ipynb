{
 "cells": [
  {
   "cell_type": "markdown",
   "metadata": {},
   "source": [
    "### PySpark Timestamp Difference (seconds, minutes, hours)"
   ]
  },
  {
   "cell_type": "code",
   "execution_count": 1,
   "metadata": {},
   "outputs": [],
   "source": [
    "from pyspark.sql import SparkSession"
   ]
  },
  {
   "cell_type": "code",
   "execution_count": 2,
   "metadata": {},
   "outputs": [],
   "source": [
    "spark = SparkSession.builder\\\n",
    ".appName('PySpark-Timestamp')\\\n",
    ".getOrCreate()"
   ]
  },
  {
   "cell_type": "code",
   "execution_count": 3,
   "metadata": {},
   "outputs": [],
   "source": [
    "dates = [(\"1\",\"2020-07-01 12:01:19.111\"),\n",
    "    (\"2\",\"2020-06-24 12:01:19.222\"),\n",
    "    (\"3\",\"2020-11-16 16:44:55.406\"),\n",
    "    (\"4\",\"2020-11-16 16:50:59.406\")\n",
    "    ]"
   ]
  },
  {
   "cell_type": "code",
   "execution_count": 4,
   "metadata": {},
   "outputs": [],
   "source": [
    "df = spark.createDataFrame(data=dates, schema=[\"id\",\"from_timestamp\"])"
   ]
  },
  {
   "cell_type": "code",
   "execution_count": 5,
   "metadata": {},
   "outputs": [],
   "source": [
    "from pyspark.sql.functions import *"
   ]
  },
  {
   "cell_type": "code",
   "execution_count": 6,
   "metadata": {},
   "outputs": [],
   "source": [
    "df2 = df.withColumn('from_timestamp',to_timestamp(col('from_timestamp')))\\\n",
    ".withColumn('end_timestamp',current_timestamp())\\\n",
    ".withColumn(\"DiffInSeconds\",col(\"end_timestamp\").cast(\"long\") - col('from_timestamp').cast(\"long\"))"
   ]
  },
  {
   "cell_type": "code",
   "execution_count": 7,
   "metadata": {},
   "outputs": [
    {
     "name": "stdout",
     "output_type": "stream",
     "text": [
      "+---+-----------------------+-----------------------+-------------+\n",
      "|id |from_timestamp         |end_timestamp          |DiffInSeconds|\n",
      "+---+-----------------------+-----------------------+-------------+\n",
      "|1  |2020-07-01 12:01:19.111|2021-03-07 10:59:21.183|21509882     |\n",
      "|2  |2020-06-24 12:01:19.222|2021-03-07 10:59:21.183|22114682     |\n",
      "|3  |2020-11-16 16:44:55.406|2021-03-07 10:59:21.183|9569666      |\n",
      "|4  |2020-11-16 16:50:59.406|2021-03-07 10:59:21.183|9569302      |\n",
      "+---+-----------------------+-----------------------+-------------+\n",
      "\n"
     ]
    }
   ],
   "source": [
    "df2.show(truncate=False)"
   ]
  },
  {
   "cell_type": "code",
   "execution_count": 8,
   "metadata": {},
   "outputs": [
    {
     "name": "stdout",
     "output_type": "stream",
     "text": [
      "+---+-----------------------+-----------------------+-------------+-------------+\n",
      "|id |from_timestamp         |end_timestamp          |DiffInSeconds|DiffInMinutes|\n",
      "+---+-----------------------+-----------------------+-------------+-------------+\n",
      "|1  |2020-07-01 12:01:19.111|2021-03-07 11:05:18.121|21510239     |358504.0     |\n",
      "|2  |2020-06-24 12:01:19.222|2021-03-07 11:05:18.121|22115039     |368584.0     |\n",
      "|3  |2020-11-16 16:44:55.406|2021-03-07 11:05:18.121|9570023      |159500.0     |\n",
      "|4  |2020-11-16 16:50:59.406|2021-03-07 11:05:18.121|9569659      |159494.0     |\n",
      "+---+-----------------------+-----------------------+-------------+-------------+\n",
      "\n"
     ]
    }
   ],
   "source": [
    "df2.withColumn('DiffInMinutes',round(col('DiffInSeconds')/60))\\\n",
    ".show(truncate=False)"
   ]
  },
  {
   "cell_type": "code",
   "execution_count": 9,
   "metadata": {},
   "outputs": [
    {
     "name": "stdout",
     "output_type": "stream",
     "text": [
      "+---+-----------------------+-----------------------+-------------+-----------+\n",
      "|id |from_timestamp         |end_timestamp          |DiffInSeconds|DiffInHours|\n",
      "+---+-----------------------+-----------------------+-------------+-----------+\n",
      "|1  |2020-07-01 12:01:19.111|2021-03-07 11:06:46.397|21510327     |5975.0     |\n",
      "|2  |2020-06-24 12:01:19.222|2021-03-07 11:06:46.397|22115127     |6143.0     |\n",
      "|3  |2020-11-16 16:44:55.406|2021-03-07 11:06:46.397|9570111      |2658.0     |\n",
      "|4  |2020-11-16 16:50:59.406|2021-03-07 11:06:46.397|9569747      |2658.0     |\n",
      "+---+-----------------------+-----------------------+-------------+-----------+\n",
      "\n"
     ]
    }
   ],
   "source": [
    "df2.withColumn('DiffInHours',round(col('DiffInSeconds')/3600))\\\n",
    ".show(truncate=False)"
   ]
  },
  {
   "cell_type": "code",
   "execution_count": 11,
   "metadata": {},
   "outputs": [],
   "source": [
    "#Difference between two timestamps when input has just timestamp\n",
    "\n",
    "data= [(\"12:01:19.000\",\"13:01:19.000\"),\n",
    "    (\"12:01:19.000\",\"12:02:19.000\"),\n",
    "    (\"16:44:55.406\",\"17:44:55.406\"),\n",
    "    (\"16:50:59.406\",\"16:44:59.406\")]\n",
    "df3 = spark.createDataFrame(data=data, schema=[\"from_timestamp\",\"to_timestamp\"])"
   ]
  },
  {
   "cell_type": "code",
   "execution_count": 13,
   "metadata": {},
   "outputs": [
    {
     "name": "stdout",
     "output_type": "stream",
     "text": [
      "+---+-----------------------+-----------------------+-------------+-------------+-----------+------------+\n",
      "|id |input_timestamp        |current_timestamp      |DiffInSeconds|DiffInMinutes|DiffInHours|DiffInDays  |\n",
      "+---+-----------------------+-----------------------+-------------+-------------+-----------+------------+\n",
      "|1  |2019-07-01 12:01:19.406|2021-03-07 11:13:20.101|53133121     |885552.0     |14759.0    |7.96996815E9|\n",
      "+---+-----------------------+-----------------------+-------------+-------------+-----------+------------+\n",
      "\n"
     ]
    }
   ],
   "source": [
    "#Date & Time is not in PySpark Default Format\n",
    "\n",
    "df3 = spark.createDataFrame(\n",
    "        data=[(\"1\",\"07-01-2019 12:01:19.406\")], \n",
    "        schema=[\"id\",\"input_timestamp\"]\n",
    "        )\n",
    "df3.withColumn(\"input_timestamp\",to_timestamp(col(\"input_timestamp\"),\"MM-dd-yyyy HH:mm:ss.SSS\")) \\\n",
    "    .withColumn(\"current_timestamp\",current_timestamp().alias(\"current_timestamp\")) \\\n",
    "    .withColumn(\"DiffInSeconds\",current_timestamp().cast(\"long\") - col(\"input_timestamp\").cast(\"long\")) \\\n",
    "    .withColumn(\"DiffInMinutes\",round(col(\"DiffInSeconds\")/60)) \\\n",
    "    .withColumn(\"DiffInHours\",round(col(\"DiffInSeconds\")/3600)) \\\n",
    "    .withColumn(\"DiffInDays\",round(col(\"DiffInSeconds\")/24*3600)) \\\n",
    "    .show(truncate=False)"
   ]
  },
  {
   "cell_type": "code",
   "execution_count": null,
   "metadata": {},
   "outputs": [],
   "source": []
  }
 ],
 "metadata": {
  "kernelspec": {
   "display_name": "Python 3",
   "language": "python",
   "name": "python3"
  },
  "language_info": {
   "codemirror_mode": {
    "name": "ipython",
    "version": 3
   },
   "file_extension": ".py",
   "mimetype": "text/x-python",
   "name": "python",
   "nbconvert_exporter": "python",
   "pygments_lexer": "ipython3",
   "version": "3.8.3"
  }
 },
 "nbformat": 4,
 "nbformat_minor": 4
}
